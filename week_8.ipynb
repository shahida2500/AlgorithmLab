{
  "nbformat": 4,
  "nbformat_minor": 0,
  "metadata": {
    "colab": {
      "name": "week 8",
      "provenance": [],
      "collapsed_sections": [],
      "include_colab_link": true
    },
    "kernelspec": {
      "name": "python3",
      "display_name": "Python 3"
    },
    "accelerator": "GPU"
  },
  "cells": [
    {
      "cell_type": "markdown",
      "metadata": {
        "id": "view-in-github",
        "colab_type": "text"
      },
      "source": [
        "<a href=\"https://colab.research.google.com/github/shahida2500/oop-lab/blob/master/week_8.ipynb\" target=\"_parent\"><img src=\"https://colab.research.google.com/assets/colab-badge.svg\" alt=\"Open In Colab\"/></a>"
      ]
    },
    {
      "cell_type": "markdown",
      "metadata": {
        "id": "UekDxd4Bss9c"
      },
      "source": [
        "# Syntax of creating ***python class***"
      ]
    },
    {
      "cell_type": "code",
      "metadata": {
        "id": "60tuubKKqsYS"
      },
      "source": [
        "class NameOfClass():\n",
        "  def __init__(self, parameter1, parameter2):\n",
        "    self.parameter1 = parameter1\n",
        "    self.parameter2 = parameter2\n",
        "  \n",
        "  def someMethod(self):\n",
        "    #perfrom some action \n",
        "    print(self.parameter1)"
      ],
      "execution_count": null,
      "outputs": []
    },
    {
      "cell_type": "markdown",
      "metadata": {
        "id": "oVcT3nsetl1c"
      },
      "source": [
        "# Create a ***Animal class*** "
      ]
    },
    {
      "cell_type": "code",
      "metadata": {
        "id": "5M8P8ovKtk-Q"
      },
      "source": [
        "class Animal():\n",
        "  def __init__(self, name, colour):\n",
        "    #arrtibute\n",
        "    #we take in the argument\n",
        "    #assgin it using self.arrtibute_name \n",
        "    self.name = name\n",
        "    self.colour = colour\n",
        "  def running(self):\n",
        "    print(f'hey! i am {self.name}, now i am running!')\n",
        "  def drinkingMilk(self):\n",
        "    print(f'hey! i am {self.name}, now i am drinking mlik!')"
      ],
      "execution_count": null,
      "outputs": []
    },
    {
      "cell_type": "markdown",
      "metadata": {
        "id": "GfEIx116xH-U"
      },
      "source": [
        "# Create ***object*** "
      ]
    },
    {
      "cell_type": "code",
      "metadata": {
        "id": "bHusC_2exGQc"
      },
      "source": [
        "tom=Animal('tom', 'gray')\n",
        "jerry=Animal('jerry', 'browon')"
      ],
      "execution_count": null,
      "outputs": []
    },
    {
      "cell_type": "markdown",
      "metadata": {
        "id": "6YorbSpczZJj"
      },
      "source": [
        "# Understanding ***object attribute***"
      ]
    },
    {
      "cell_type": "code",
      "metadata": {
        "id": "EJW4c6_6yB0u"
      },
      "source": [
        "print(f'hey! i am {tom.name} and my colour is: {tom.colour}')\n",
        "print(f'hey! i am {jerry.name} and my colour is: {jerry.colour}')"
      ],
      "execution_count": null,
      "outputs": []
    },
    {
      "cell_type": "markdown",
      "metadata": {
        "id": "zEF3UnJu1S_Y"
      },
      "source": [
        "# Understanding ***object behaviour***"
      ]
    },
    {
      "cell_type": "code",
      "metadata": {
        "id": "N5QbwtRI0VU9"
      },
      "source": [
        "#print tom behaviour\n",
        "tom.running()\n",
        "tom.drinkingMilk()\n",
        "\n",
        "#print jerry behaviour\n",
        "jerry.running()\n",
        "jerry.drinkingMilk()"
      ],
      "execution_count": null,
      "outputs": []
    },
    {
      "cell_type": "markdown",
      "metadata": {
        "id": "t0cOQ9NJRh5W"
      },
      "source": [
        "# The ***self Parameter***\n",
        "1.   The **self** parameter is a reference to the current instance of the class, and is used to access variables that belongs to the class.\n",
        "2.   It does not have to be named self , you can call it whatever you like, but it has to be **the first parameter of any function in the class**."
      ]
    },
    {
      "cell_type": "code",
      "metadata": {
        "id": "x4l5ekSY13JZ",
        "colab": {
          "base_uri": "https://localhost:8080/",
          "height": 54
        },
        "outputId": "06b254c3-a252-44d0-d18d-62cf0848e41b"
      },
      "source": [
        "#create class\n",
        "class Animal():\n",
        "  def __init__(self, objectName, objectColour):\n",
        "    #arrtibute\n",
        "    #we take in the argument\n",
        "    #assgin it using self.arrtibute_name \n",
        "    self.name = objectName\n",
        "    self.colour = objectColour\n",
        "\n",
        "#create object\n",
        "tom=Animal('tom', 'gray')\n",
        "jerry=Animal('jerry', 'browon')\n",
        "\n",
        "#printing object attribute, object attribute access with name and colour. \n",
        "print(f'hey! i am {tom.name} and my colour is: {tom.colour}')\n",
        "print(f'hey! i am {jerry.name} and my colour is: {jerry.colour}')"
      ],
      "execution_count": null,
      "outputs": [
        {
          "output_type": "stream",
          "text": [
            "hey! i am tom and my colour is: gray\n",
            "hey! i am jerry and my colour is: browon\n"
          ],
          "name": "stdout"
        }
      ]
    },
    {
      "cell_type": "code",
      "metadata": {
        "id": "AbHRyYgmT4Dq"
      },
      "source": [
        "#create class\n",
        "class Animal():\n",
        "  def __init__(this, objectName, objectColour):\n",
        "    #arrtibute\n",
        "    #we take in the argument\n",
        "    #assgin it using this.arrtibute_name \n",
        "    this.name = objectName\n",
        "    this.colour = objectColour\n",
        "\n",
        "#create object\n",
        "tom=Animal('tom', 'gray')\n",
        "jerry=Animal('jerry', 'browon')\n",
        "\n",
        "#printing object attribute, object attribute access with name and colour. \n",
        "print(f'hey! i am {tom.name} and my colour is: {tom.colour}')\n",
        "print(f'hey! i am {jerry.name} and my colour is: {jerry.colour}')"
      ],
      "execution_count": null,
      "outputs": []
    },
    {
      "cell_type": "markdown",
      "metadata": {
        "id": "U6F8pXaEXWU4"
      },
      "source": [
        "# The __init__() Function\n",
        "\n",
        "1.   The __init__() function is called automatically every time the class is being used to create a new object.\n",
        "2.   All classes have a function called __init__(), which is always executed when the class is being initiated.\n"
      ]
    },
    {
      "cell_type": "code",
      "metadata": {
        "id": "qWKjIUNLVGdD"
      },
      "source": [
        "#create class\n",
        "class Animal():\n",
        "  def __init__(self):\n",
        "    print(f'hello! i am init()!')\n",
        "\n",
        "#create object\n",
        "tom=Animal()"
      ],
      "execution_count": null,
      "outputs": []
    },
    {
      "cell_type": "markdown",
      "metadata": {
        "id": "RNh05kEBakMZ"
      },
      "source": [
        "# Class ***object Attribute***\n",
        "this attribute same for any instance of class"
      ]
    },
    {
      "cell_type": "code",
      "metadata": {
        "id": "qPYN7DnuZMZb"
      },
      "source": [
        "#create class \n",
        "class Animal():\n",
        "  #class object attribute\n",
        "  #same for any instance of class\n",
        "  species = 'mammal'\n",
        "  def __init__(self, name, colour):\n",
        "    #arrtibute\n",
        "    #we take in the argument\n",
        "    #assgin it using self.arrtibute_name \n",
        "    self.name = name\n",
        "    self.colour = colour\n",
        "\n",
        "#create object\n",
        "tom=Animal('tom', 'gray')\n",
        "jerry=Animal('jerry', 'browon')\n",
        "\n",
        "#print object attribute \n",
        "print(tom.species)\n",
        "print(jerry.species)"
      ],
      "execution_count": null,
      "outputs": []
    },
    {
      "cell_type": "code",
      "metadata": {
        "id": "6zkYrCMFcqlY"
      },
      "source": [
        ""
      ],
      "execution_count": null,
      "outputs": []
    }
  ]
}